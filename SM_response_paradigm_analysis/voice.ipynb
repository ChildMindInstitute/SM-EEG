{
 "cells": [
  {
   "cell_type": "markdown",
   "metadata": {},
   "source": [
    "# Selective Mutism response paradigm analysis: voice\n",
    "\n",
    "Authors:\n",
    "    - Jon Clucas, 2017  <jon.clucas@childmind.org>\n",
    "Copyright ©2017, Apache v2.0 License"
   ]
  },
  {
   "cell_type": "markdown",
   "metadata": {},
   "source": [
    "Imports & function definitions:"
   ]
  },
  {
   "cell_type": "code",
   "execution_count": 1,
   "metadata": {},
   "outputs": [],
   "source": [
    "import json\n",
    "from sklearn.preprocessing import LabelEncoder\n",
    "import numpy as np\n",
    "import os\n",
    "import pandas as pd\n",
    "import sys\n",
    "import urllib\n",
    "sm_eeg = os.path.abspath(os.path.join(os.getcwd(), os.pardir))\n",
    "if sm_eeg not in sys.path: \n",
    "    sys.path.append(sm_eeg)\n",
    "from SM_openSMILE.openSMILE_analysis import openSMILE_csv\n",
    "from utilities import fetch_data\n",
    "from voice_functions import *\n",
    "with open(os.path.join('../config/config.json')) as cfgf:\n",
    "    osf = json.load(cfgf)['OSF_urls']"
   ]
  },
  {
   "cell_type": "markdown",
   "metadata": {},
   "source": [
    "Load data from OSF:"
   ]
  },
  {
   "cell_type": "code",
   "execution_count": null,
   "metadata": {
    "collapsed": true
   },
   "outputs": [],
   "source": [
    "emobase = pd.read_csv(osf['emobase']['features'])\n",
    "ComParE_2016 = pd.read_csv(osf['ComParE_2016']['features'])\n",
    "conditions = pd.read_csv(osf['conditions'])\n",
    "dx = pd.read_csv(osf['dx'])"
   ]
  },
  {
   "cell_type": "markdown",
   "metadata": {},
   "source": [
    "Harmonize data formats:"
   ]
  },
  {
   "cell_type": "code",
   "execution_count": null,
   "metadata": {
    "collapsed": true
   },
   "outputs": [],
   "source": [
    "emobase, ComParE_2016, conditions, dx = update_encoding(\n",
    "                                             [emobase, ComParE_2016, conditions, dx],\n",
    "                                             [{\"M00494594\":\"M00494954\"},\n",
    "                                              {\"_\":False, np.nan:False, \"SM\":True}\n",
    "                                             ],\n",
    "                                             [\"URSI\", \"Dx?\"],\n",
    "                                             [None, bool]\n",
    "                                         )"
   ]
  },
  {
   "cell_type": "code",
   "execution_count": null,
   "metadata": {},
   "outputs": [],
   "source": [
    "emobase.drop(\"Unnamed: 0\", axis=1)"
   ]
  },
  {
   "cell_type": "markdown",
   "metadata": {},
   "source": [
    "Merge datatables as necessary and integerize categorical data:"
   ]
  },
  {
   "cell_type": "code",
   "execution_count": null,
   "metadata": {
    "collapsed": true
   },
   "outputs": [],
   "source": [
    "emobase = int_categorize(combine_data(emobase, conditions, dx))\n",
    "ComParE_2016 = int_categorize(combine_data(ComParE_2016, conditions, dx))"
   ]
  },
  {
   "cell_type": "markdown",
   "metadata": {},
   "source": [
    "## Random Forests"
   ]
  },
  {
   "cell_type": "markdown",
   "metadata": {},
   "source": [
    "Import and initialize:"
   ]
  },
  {
   "cell_type": "code",
   "execution_count": null,
   "metadata": {},
   "outputs": [],
   "source": [
    "from sklearn.ensemble import RandomForestClassifier\n",
    "RandomForestClassifier()"
   ]
  },
  {
   "cell_type": "markdown",
   "metadata": {},
   "source": [
    "We can only have 1-D Y:"
   ]
  },
  {
   "cell_type": "code",
   "execution_count": null,
   "metadata": {},
   "outputs": [],
   "source": [
    "eX, eY = make_forest(emobase)"
   ]
  },
  {
   "cell_type": "markdown",
   "metadata": {},
   "source": [
    "Try with 100 estimators:"
   ]
  },
  {
   "cell_type": "code",
   "execution_count": null,
   "metadata": {
    "collapsed": true
   },
   "outputs": [],
   "source": [
    "clf = RandomForestClassifier(n_estimators=10)\n",
    "clf = clf.fit(eX, eY)"
   ]
  },
  {
   "cell_type": "code",
   "execution_count": null,
   "metadata": {},
   "outputs": [],
   "source": [
    "clf.feature_importances_"
   ]
  },
  {
   "cell_type": "code",
   "execution_count": null,
   "metadata": {},
   "outputs": [],
   "source": [
    "features = pd.DataFrame.from_dict(dict(zip(\n",
    "               emobase.columns.difference([\"Dx?\"]), clf.feature_importances_\n",
    "               )), orient='index'\n",
    "           ).rename(columns={0:\"importance\"}\n",
    "           ).sort_values(\"importance\", ascending=False)\n",
    "print(features)"
   ]
  },
  {
   "cell_type": "markdown",
   "metadata": {
    "collapsed": true
   },
   "source": [
    "---"
   ]
  },
  {
   "cell_type": "code",
   "execution_count": 2,
   "metadata": {},
   "outputs": [],
   "source": [
    "experimental_conditions = {\n",
    "    k for k in osf[\n",
    "        'emobase'\n",
    "    ] if k != \"features\"\n",
    "}\n",
    "noise_replacement_conditions = {\n",
    "    k for k in osf[\n",
    "        'emobase'\n",
    "    ][\n",
    "        list(\n",
    "            experimental_conditions\n",
    "        )[0]\n",
    "    ]\n",
    "}"
   ]
  },
  {
   "cell_type": "code",
   "execution_count": 8,
   "metadata": {},
   "outputs": [
    {
     "name": "stdout",
     "output_type": "stream",
     "text": [
      "/home/jclucas/selective-mutism-eeg/SM_response_paradigm_analysis/emobase/emobase_features.csv\n",
      "/home/jclucas/selective-mutism-eeg/SM_response_paradigm_analysis/emobase/emobase_features.csv\n",
      "/home/jclucas/selective-mutism-eeg/SM_response_paradigm_analysis/emobase/emobase_features.csv\n",
      "/home/jclucas/selective-mutism-eeg/SM_response_paradigm_analysis/emobase/emobase_features.csv\n",
      "/home/jclucas/selective-mutism-eeg/SM_response_paradigm_analysis/emobase/emobase_features.csv\n",
      "/home/jclucas/selective-mutism-eeg/SM_response_paradigm_analysis/emobase/emobase_features.csv\n",
      "/home/jclucas/selective-mutism-eeg/SM_response_paradigm_analysis/emobase/emobase_features.csv\n",
      "/home/jclucas/selective-mutism-eeg/SM_response_paradigm_analysis/emobase/emobase_features.csv\n",
      "/home/jclucas/selective-mutism-eeg/SM_response_paradigm_analysis/emobase/emobase_features.csv\n",
      "/home/jclucas/selective-mutism-eeg/SM_response_paradigm_analysis/emobase/emobase_features.csv\n",
      "/home/jclucas/selective-mutism-eeg/SM_response_paradigm_analysis/emobase/emobase_features.csv\n",
      "/home/jclucas/selective-mutism-eeg/SM_response_paradigm_analysis/emobase/emobase_features.csv\n",
      "/home/jclucas/selective-mutism-eeg/SM_response_paradigm_analysis/emobase/emobase_features.csv\n",
      "/home/jclucas/selective-mutism-eeg/SM_response_paradigm_analysis/emobase/emobase_features.csv\n",
      "/home/jclucas/selective-mutism-eeg/SM_response_paradigm_analysis/emobase/emobase_features.csv\n",
      "/home/jclucas/selective-mutism-eeg/SM_response_paradigm_analysis/emobase/emobase_features.csv\n",
      "/home/jclucas/selective-mutism-eeg/SM_response_paradigm_analysis/emobase/emobase_features.csv\n",
      "/home/jclucas/selective-mutism-eeg/SM_response_paradigm_analysis/emobase/emobase_features.csv\n",
      "/home/jclucas/selective-mutism-eeg/SM_response_paradigm_analysis/emobase/emobase_features.csv\n",
      "/home/jclucas/selective-mutism-eeg/SM_response_paradigm_analysis/emobase/emobase_features.csv\n",
      "/home/jclucas/selective-mutism-eeg/SM_response_paradigm_analysis/emobase/emobase_features.csv\n",
      "/home/jclucas/selective-mutism-eeg/SM_response_paradigm_analysis/emobase/emobase_features.csv\n",
      "/home/jclucas/selective-mutism-eeg/SM_response_paradigm_analysis/emobase/emobase_features.csv\n",
      "/home/jclucas/selective-mutism-eeg/SM_response_paradigm_analysis/emobase/emobase_features.csv\n",
      "/home/jclucas/selective-mutism-eeg/SM_response_paradigm_analysis/ComParE_2016/ComParE_2016_features.csv\n",
      "/home/jclucas/selective-mutism-eeg/SM_response_paradigm_analysis/ComParE_2016/ComParE_2016_features.csv\n",
      "/home/jclucas/selective-mutism-eeg/SM_response_paradigm_analysis/ComParE_2016/ComParE_2016_features.csv\n",
      "/home/jclucas/selective-mutism-eeg/SM_response_paradigm_analysis/ComParE_2016/ComParE_2016_features.csv\n",
      "/home/jclucas/selective-mutism-eeg/SM_response_paradigm_analysis/ComParE_2016/ComParE_2016_features.csv\n",
      "/home/jclucas/selective-mutism-eeg/SM_response_paradigm_analysis/ComParE_2016/ComParE_2016_features.csv\n",
      "/home/jclucas/selective-mutism-eeg/SM_response_paradigm_analysis/ComParE_2016/ComParE_2016_features.csv\n",
      "/home/jclucas/selective-mutism-eeg/SM_response_paradigm_analysis/ComParE_2016/ComParE_2016_features.csv\n",
      "/home/jclucas/selective-mutism-eeg/SM_response_paradigm_analysis/ComParE_2016/ComParE_2016_features.csv\n",
      "/home/jclucas/selective-mutism-eeg/SM_response_paradigm_analysis/ComParE_2016/ComParE_2016_features.csv\n",
      "/home/jclucas/selective-mutism-eeg/SM_response_paradigm_analysis/ComParE_2016/ComParE_2016_features.csv\n",
      "/home/jclucas/selective-mutism-eeg/SM_response_paradigm_analysis/ComParE_2016/ComParE_2016_features.csv\n",
      "/home/jclucas/selective-mutism-eeg/SM_response_paradigm_analysis/ComParE_2016/ComParE_2016_features.csv\n",
      "/home/jclucas/selective-mutism-eeg/SM_response_paradigm_analysis/ComParE_2016/ComParE_2016_features.csv\n",
      "/home/jclucas/selective-mutism-eeg/SM_response_paradigm_analysis/ComParE_2016/ComParE_2016_features.csv\n",
      "/home/jclucas/selective-mutism-eeg/SM_response_paradigm_analysis/ComParE_2016/ComParE_2016_features.csv\n",
      "/home/jclucas/selective-mutism-eeg/SM_response_paradigm_analysis/ComParE_2016/ComParE_2016_features.csv\n",
      "/home/jclucas/selective-mutism-eeg/SM_response_paradigm_analysis/ComParE_2016/ComParE_2016_features.csv\n",
      "/home/jclucas/selective-mutism-eeg/SM_response_paradigm_analysis/ComParE_2016/ComParE_2016_features.csv\n",
      "/home/jclucas/selective-mutism-eeg/SM_response_paradigm_analysis/ComParE_2016/ComParE_2016_features.csv\n",
      "/home/jclucas/selective-mutism-eeg/SM_response_paradigm_analysis/ComParE_2016/ComParE_2016_features.csv\n",
      "/home/jclucas/selective-mutism-eeg/SM_response_paradigm_analysis/ComParE_2016/ComParE_2016_features.csv\n",
      "/home/jclucas/selective-mutism-eeg/SM_response_paradigm_analysis/ComParE_2016/ComParE_2016_features.csv\n",
      "/home/jclucas/selective-mutism-eeg/SM_response_paradigm_analysis/ComParE_2016/ComParE_2016_features.csv\n"
     ]
    },
    {
     "name": "stderr",
     "output_type": "stream",
     "text": [
      "IOPub data rate exceeded.\n",
      "The notebook server will temporarily stop sending output\n",
      "to the client in order to avoid crashing it.\n",
      "To change this limit, set the config variable\n",
      "`--NotebookApp.iopub_data_rate_limit`.\n"
     ]
    }
   ],
   "source": [
    "[openSMILE_csv.get_features(\n",
    "    osf[cf][exp][nr],\n",
    "    cf\n",
    ") for cf in [\n",
    "    \"emobase\",\n",
    "    \"ComParE_2016\"\n",
    "] for exp in experimental_conditions for nr in noise_replacement_conditions\n",
    "]"
   ]
  },
  {
   "cell_type": "code",
   "execution_count": null,
   "metadata": {
    "collapsed": true
   },
   "outputs": [],
   "source": []
  }
 ],
 "metadata": {
  "kernelspec": {
   "display_name": "Python 3",
   "language": "python",
   "name": "python3"
  },
  "language_info": {
   "codemirror_mode": {
    "name": "ipython",
    "version": 3
   },
   "file_extension": ".py",
   "mimetype": "text/x-python",
   "name": "python",
   "nbconvert_exporter": "python",
   "pygments_lexer": "ipython3",
   "version": "3.6.3"
  }
 },
 "nbformat": 4,
 "nbformat_minor": 2
}
