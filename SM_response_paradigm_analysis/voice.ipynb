{
 "cells": [
  {
   "cell_type": "markdown",
   "metadata": {},
   "source": [
    "# Selective Mutism response paradigm analysis: voice\n",
    "\n",
    "Authors:\n",
    "    - Jon Clucas, 2017  <jon.clucas@childmind.org>\n",
    "Copyright ©2017, Apache v2.0 License"
   ]
  },
  {
   "cell_type": "code",
   "execution_count": 1,
   "metadata": {},
   "outputs": [],
   "source": [
    "import json\n",
    "import os\n",
    "import pandas as pd\n",
    "import sys\n",
    "sm_eeg = os.path.abspath(os.path.join(os.getcwd(), os.pardir))\n",
    "if sm_eeg not in sys.path:\n",
    "    sys.path.append(sm_eeg)\n",
    "from utilities import fetch_data\n",
    "with open(os.path.join('../config/config.json')) as cfgf:\n",
    "    osf = json.load(cfgf)['OSF_urls']\n",
    "    \n",
    "    \n",
    "def combine_data(openSMILE, SM, conditions):\n",
    "    \"\"\"\n",
    "    Function to combine imported dataframes.\n",
    "    \n",
    "    Parameters\n",
    "    ----------\n",
    "    openSMILE: pandas dataframe\n",
    "        features from openSMILE\n",
    "    \n",
    "    SM: pandas dataframe\n",
    "        SM diagnotic measures\n",
    "    \n",
    "    conditions: pandas dataframe\n",
    "        notes about each recording\n",
    "        \n",
    "    Returns\n",
    "    -------\n",
    "    d2: pandas dataframe\n",
    "        merged dataframe\n",
    "    \"\"\"\n",
    "    openSMILE['stranger'] = openSMILE['stranger'] == 'w'\n",
    "    d = pd.merge(SM, openSMILE, on='URSI', how='right')\n",
    "    d2 = pd.merge(d, conditions, on=['URSI', 'stranger'], how='left')\n",
    "    return(d2)"
   ]
  },
  {
   "cell_type": "code",
   "execution_count": 2,
   "metadata": {
    "collapsed": true
   },
   "outputs": [],
   "source": [
    "SMQ = pd.read_csv(osf['SMQ'])"
   ]
  },
  {
   "cell_type": "code",
   "execution_count": 3,
   "metadata": {
    "collapsed": true
   },
   "outputs": [],
   "source": [
    "conditions = pd.read_csv(osf['conditions'])"
   ]
  },
  {
   "cell_type": "code",
   "execution_count": 4,
   "metadata": {},
   "outputs": [],
   "source": [
    "emobase = pd.read_csv(osf['emobase'])\n",
    "emobase = combine_data(emobase, SMQ, conditions)"
   ]
  },
  {
   "cell_type": "code",
   "execution_count": 5,
   "metadata": {},
   "outputs": [],
   "source": [
    "ComParE_2016 = pd.read_csv(osf['ComParE_2016'])\n",
    "ComParE_2016 = combine_data(ComParE_2016, SMQ, conditions)"
   ]
  }
 ],
 "metadata": {
  "kernelspec": {
   "display_name": "Python [conda root]",
   "language": "python",
   "name": "conda-root-py"
  },
  "language_info": {
   "codemirror_mode": {
    "name": "ipython",
    "version": 3
   },
   "file_extension": ".py",
   "mimetype": "text/x-python",
   "name": "python",
   "nbconvert_exporter": "python",
   "pygments_lexer": "ipython3",
   "version": "3.5.2"
  }
 },
 "nbformat": 4,
 "nbformat_minor": 2
}
