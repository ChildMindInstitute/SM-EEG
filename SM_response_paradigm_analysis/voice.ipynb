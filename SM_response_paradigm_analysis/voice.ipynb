{
 "cells": [
  {
   "cell_type": "markdown",
   "metadata": {},
   "source": [
    "# Selective Mutism response paradigm analysis: voice\n",
    "\n",
    "Authors:\n",
    "    - Jon Clucas, 2017  <jon.clucas@childmind.org>\n",
    "Copyright ©2017, Apache v2.0 License"
   ]
  },
  {
   "cell_type": "markdown",
   "metadata": {},
   "source": [
    "Imports & function definitions:"
   ]
  },
  {
   "cell_type": "code",
   "execution_count": 1,
   "metadata": {},
   "outputs": [],
   "source": [
    "import json\n",
    "from sklearn.preprocessing import LabelEncoder\n",
    "import numpy as np\n",
    "import os\n",
    "import pandas as pd\n",
    "import sys\n",
    "import urllib\n",
    "sm_eeg = os.path.abspath(os.path.join(os.getcwd(), os.pardir))\n",
    "if sm_eeg not in sys.path: \n",
    "    sys.path.append(sm_eeg)\n",
    "from SM_openSMILE.openSMILE_analysis import openSMILE_csv\n",
    "from utilities import fetch_data\n",
    "from voice_functions import *\n",
    "with open(os.path.join('../config/config.json')) as cfgf:\n",
    "    osf = json.load(cfgf)['OSF_urls']"
   ]
  },
  {
   "cell_type": "markdown",
   "metadata": {},
   "source": [
    "Load data from OSF:"
   ]
  },
  {
   "cell_type": "code",
   "execution_count": null,
   "metadata": {
    "collapsed": true
   },
   "outputs": [],
   "source": [
    "emobase = pd.read_csv(osf['emobase']['features'])\n",
    "ComParE_2016 = pd.read_csv(osf['ComParE_2016']['features'])\n",
    "conditions = pd.read_csv(osf['conditions'])\n",
    "dx = pd.read_csv(osf['dx'])"
   ]
  },
  {
   "cell_type": "markdown",
   "metadata": {},
   "source": [
    "Harmonize data formats:"
   ]
  },
  {
   "cell_type": "code",
   "execution_count": null,
   "metadata": {
    "collapsed": true
   },
   "outputs": [],
   "source": [
    "emobase, ComParE_2016, conditions, dx = update_encoding(\n",
    "                                             [emobase, ComParE_2016, conditions, dx],\n",
    "                                             [{\"M00494594\":\"M00494954\"},\n",
    "                                              {\"_\":False, np.nan:False, \"SM\":True}\n",
    "                                             ],\n",
    "                                             [\"URSI\", \"Dx?\"],\n",
    "                                             [None, bool]\n",
    "                                         )"
   ]
  },
  {
   "cell_type": "code",
   "execution_count": null,
   "metadata": {},
   "outputs": [],
   "source": [
    "emobase.drop(\"Unnamed: 0\", axis=1)"
   ]
  },
  {
   "cell_type": "markdown",
   "metadata": {},
   "source": [
    "Merge datatables as necessary and integerize categorical data:"
   ]
  },
  {
   "cell_type": "code",
   "execution_count": null,
   "metadata": {
    "collapsed": true
   },
   "outputs": [],
   "source": [
    "emobase = int_categorize(combine_data(emobase, conditions, dx))\n",
    "ComParE_2016 = int_categorize(combine_data(ComParE_2016, conditions, dx))"
   ]
  },
  {
   "cell_type": "markdown",
   "metadata": {},
   "source": [
    "## Random Forests"
   ]
  },
  {
   "cell_type": "markdown",
   "metadata": {},
   "source": [
    "Import and initialize:"
   ]
  },
  {
   "cell_type": "code",
   "execution_count": null,
   "metadata": {},
   "outputs": [],
   "source": [
    "from sklearn.ensemble import RandomForestClassifier\n",
    "RandomForestClassifier()"
   ]
  },
  {
   "cell_type": "markdown",
   "metadata": {},
   "source": [
    "We can only have 1-D Y:"
   ]
  },
  {
   "cell_type": "code",
   "execution_count": null,
   "metadata": {},
   "outputs": [],
   "source": [
    "eX, eY = make_forest(emobase)"
   ]
  },
  {
   "cell_type": "markdown",
   "metadata": {},
   "source": [
    "Try with 100 estimators:"
   ]
  },
  {
   "cell_type": "code",
   "execution_count": null,
   "metadata": {
    "collapsed": true
   },
   "outputs": [],
   "source": [
    "clf = RandomForestClassifier(n_estimators=10)\n",
    "clf = clf.fit(eX, eY)"
   ]
  },
  {
   "cell_type": "code",
   "execution_count": null,
   "metadata": {},
   "outputs": [],
   "source": [
    "clf.feature_importances_"
   ]
  },
  {
   "cell_type": "code",
   "execution_count": null,
   "metadata": {},
   "outputs": [],
   "source": [
    "features = pd.DataFrame.from_dict(dict(zip(\n",
    "               emobase.columns.difference([\"Dx?\"]), clf.feature_importances_\n",
    "               )), orient='index'\n",
    "           ).rename(columns={0:\"importance\"}\n",
    "           ).sort_values(\"importance\", ascending=False)\n",
    "print(features)"
   ]
  },
  {
   "cell_type": "markdown",
   "metadata": {
    "collapsed": true
   },
   "source": [
    "---\n",
    "Collect all combinations of config files, experimental conditions, and noise replacement methods into a (48-item) list of 3-tuples:"
   ]
  },
  {
   "cell_type": "code",
   "execution_count": 13,
   "metadata": {},
   "outputs": [],
   "source": [
    "config_exp_nr = [\n",
    "    (\n",
    "        cf,\n",
    "        exp,\n",
    "        nr\n",
    "    ) for cf in [\n",
    "        \"emobase\",\n",
    "        \"ComParE_2016\"\n",
    "    ] for exp in {\n",
    "        k for k in osf[\n",
    "            'emobase'\n",
    "        ] if k != \"features\"\n",
    "    } for nr in {\n",
    "        k for k in osf[\n",
    "            'emobase'\n",
    "        ][\n",
    "            list(\n",
    "                experimental_conditions\n",
    "            )[0]\n",
    "        ]\n",
    "    }\n",
    "]"
   ]
  },
  {
   "cell_type": "code",
   "execution_count": 11,
   "metadata": {},
   "outputs": [
    {
     "name": "stdout",
     "output_type": "stream",
     "text": [
      "48\n"
     ]
    }
   ],
   "source": [
    "print(len(config_exp_nr))"
   ]
  },
  {
   "cell_type": "code",
   "execution_count": 35,
   "metadata": {},
   "outputs": [
    {
     "data": {
      "text/html": [
       "<div>\n",
       "<style>\n",
       "    .dataframe thead tr:only-child th {\n",
       "        text-align: right;\n",
       "    }\n",
       "\n",
       "    .dataframe thead th {\n",
       "        text-align: left;\n",
       "    }\n",
       "\n",
       "    .dataframe tbody tr th {\n",
       "        vertical-align: top;\n",
       "    }\n",
       "</style>\n",
       "<table border=\"1\" class=\"dataframe\">\n",
       "  <thead>\n",
       "    <tr style=\"text-align: right;\">\n",
       "      <th></th>\n",
       "      <th></th>\n",
       "      <th>ComParE_2016</th>\n",
       "      <th>emobase</th>\n",
       "    </tr>\n",
       "    <tr>\n",
       "      <th>experimental condition</th>\n",
       "      <th>noise replacement</th>\n",
       "      <th></th>\n",
       "      <th></th>\n",
       "    </tr>\n",
       "  </thead>\n",
       "  <tbody>\n",
       "    <tr>\n",
       "      <th rowspan=\"6\" valign=\"top\">vocal, no stranger</th>\n",
       "      <th>adults replaced: pink noise</th>\n",
       "      <td>NaN</td>\n",
       "      <td>NaN</td>\n",
       "    </tr>\n",
       "    <tr>\n",
       "      <th>adults only</th>\n",
       "      <td>NaN</td>\n",
       "      <td>NaN</td>\n",
       "    </tr>\n",
       "    <tr>\n",
       "      <th>adults replaced: clone</th>\n",
       "      <td>NaN</td>\n",
       "      <td>NaN</td>\n",
       "    </tr>\n",
       "    <tr>\n",
       "      <th>adults removed</th>\n",
       "      <td>NaN</td>\n",
       "      <td>NaN</td>\n",
       "    </tr>\n",
       "    <tr>\n",
       "      <th>adults timeshifted</th>\n",
       "      <td>NaN</td>\n",
       "      <td>NaN</td>\n",
       "    </tr>\n",
       "    <tr>\n",
       "      <th>original</th>\n",
       "      <td>NaN</td>\n",
       "      <td>NaN</td>\n",
       "    </tr>\n",
       "    <tr>\n",
       "      <th rowspan=\"6\" valign=\"top\">button, no stranger</th>\n",
       "      <th>adults replaced: pink noise</th>\n",
       "      <td>NaN</td>\n",
       "      <td>NaN</td>\n",
       "    </tr>\n",
       "    <tr>\n",
       "      <th>adults only</th>\n",
       "      <td>NaN</td>\n",
       "      <td>NaN</td>\n",
       "    </tr>\n",
       "    <tr>\n",
       "      <th>adults replaced: clone</th>\n",
       "      <td>NaN</td>\n",
       "      <td>NaN</td>\n",
       "    </tr>\n",
       "    <tr>\n",
       "      <th>adults removed</th>\n",
       "      <td>NaN</td>\n",
       "      <td>NaN</td>\n",
       "    </tr>\n",
       "    <tr>\n",
       "      <th>adults timeshifted</th>\n",
       "      <td>NaN</td>\n",
       "      <td>NaN</td>\n",
       "    </tr>\n",
       "    <tr>\n",
       "      <th>original</th>\n",
       "      <td>NaN</td>\n",
       "      <td>NaN</td>\n",
       "    </tr>\n",
       "    <tr>\n",
       "      <th rowspan=\"6\" valign=\"top\">button, with stranger</th>\n",
       "      <th>adults replaced: pink noise</th>\n",
       "      <td>NaN</td>\n",
       "      <td>NaN</td>\n",
       "    </tr>\n",
       "    <tr>\n",
       "      <th>adults only</th>\n",
       "      <td>NaN</td>\n",
       "      <td>NaN</td>\n",
       "    </tr>\n",
       "    <tr>\n",
       "      <th>adults replaced: clone</th>\n",
       "      <td>NaN</td>\n",
       "      <td>NaN</td>\n",
       "    </tr>\n",
       "    <tr>\n",
       "      <th>adults removed</th>\n",
       "      <td>NaN</td>\n",
       "      <td>NaN</td>\n",
       "    </tr>\n",
       "    <tr>\n",
       "      <th>adults timeshifted</th>\n",
       "      <td>NaN</td>\n",
       "      <td>NaN</td>\n",
       "    </tr>\n",
       "    <tr>\n",
       "      <th>original</th>\n",
       "      <td>NaN</td>\n",
       "      <td>NaN</td>\n",
       "    </tr>\n",
       "    <tr>\n",
       "      <th rowspan=\"6\" valign=\"top\">vocal, with stranger</th>\n",
       "      <th>adults replaced: pink noise</th>\n",
       "      <td>NaN</td>\n",
       "      <td>NaN</td>\n",
       "    </tr>\n",
       "    <tr>\n",
       "      <th>adults only</th>\n",
       "      <td>NaN</td>\n",
       "      <td>NaN</td>\n",
       "    </tr>\n",
       "    <tr>\n",
       "      <th>adults replaced: clone</th>\n",
       "      <td>NaN</td>\n",
       "      <td>NaN</td>\n",
       "    </tr>\n",
       "    <tr>\n",
       "      <th>adults removed</th>\n",
       "      <td>NaN</td>\n",
       "      <td>NaN</td>\n",
       "    </tr>\n",
       "    <tr>\n",
       "      <th>adults timeshifted</th>\n",
       "      <td>NaN</td>\n",
       "      <td>NaN</td>\n",
       "    </tr>\n",
       "    <tr>\n",
       "      <th>original</th>\n",
       "      <td>NaN</td>\n",
       "      <td>NaN</td>\n",
       "    </tr>\n",
       "    <tr>\n",
       "      <th rowspan=\"6\" valign=\"top\">vocal, no stranger</th>\n",
       "      <th>adults replaced: pink noise</th>\n",
       "      <td>NaN</td>\n",
       "      <td>NaN</td>\n",
       "    </tr>\n",
       "    <tr>\n",
       "      <th>adults only</th>\n",
       "      <td>NaN</td>\n",
       "      <td>NaN</td>\n",
       "    </tr>\n",
       "    <tr>\n",
       "      <th>adults replaced: clone</th>\n",
       "      <td>NaN</td>\n",
       "      <td>NaN</td>\n",
       "    </tr>\n",
       "    <tr>\n",
       "      <th>adults removed</th>\n",
       "      <td>NaN</td>\n",
       "      <td>NaN</td>\n",
       "    </tr>\n",
       "    <tr>\n",
       "      <th>adults timeshifted</th>\n",
       "      <td>NaN</td>\n",
       "      <td>NaN</td>\n",
       "    </tr>\n",
       "    <tr>\n",
       "      <th>original</th>\n",
       "      <td>NaN</td>\n",
       "      <td>NaN</td>\n",
       "    </tr>\n",
       "    <tr>\n",
       "      <th rowspan=\"6\" valign=\"top\">button, no stranger</th>\n",
       "      <th>adults replaced: pink noise</th>\n",
       "      <td>NaN</td>\n",
       "      <td>NaN</td>\n",
       "    </tr>\n",
       "    <tr>\n",
       "      <th>adults only</th>\n",
       "      <td>NaN</td>\n",
       "      <td>NaN</td>\n",
       "    </tr>\n",
       "    <tr>\n",
       "      <th>adults replaced: clone</th>\n",
       "      <td>NaN</td>\n",
       "      <td>NaN</td>\n",
       "    </tr>\n",
       "    <tr>\n",
       "      <th>adults removed</th>\n",
       "      <td>NaN</td>\n",
       "      <td>NaN</td>\n",
       "    </tr>\n",
       "    <tr>\n",
       "      <th>adults timeshifted</th>\n",
       "      <td>NaN</td>\n",
       "      <td>NaN</td>\n",
       "    </tr>\n",
       "    <tr>\n",
       "      <th>original</th>\n",
       "      <td>NaN</td>\n",
       "      <td>NaN</td>\n",
       "    </tr>\n",
       "    <tr>\n",
       "      <th rowspan=\"6\" valign=\"top\">button, with stranger</th>\n",
       "      <th>adults replaced: pink noise</th>\n",
       "      <td>NaN</td>\n",
       "      <td>NaN</td>\n",
       "    </tr>\n",
       "    <tr>\n",
       "      <th>adults only</th>\n",
       "      <td>NaN</td>\n",
       "      <td>NaN</td>\n",
       "    </tr>\n",
       "    <tr>\n",
       "      <th>adults replaced: clone</th>\n",
       "      <td>NaN</td>\n",
       "      <td>NaN</td>\n",
       "    </tr>\n",
       "    <tr>\n",
       "      <th>adults removed</th>\n",
       "      <td>NaN</td>\n",
       "      <td>NaN</td>\n",
       "    </tr>\n",
       "    <tr>\n",
       "      <th>adults timeshifted</th>\n",
       "      <td>NaN</td>\n",
       "      <td>NaN</td>\n",
       "    </tr>\n",
       "    <tr>\n",
       "      <th>original</th>\n",
       "      <td>NaN</td>\n",
       "      <td>NaN</td>\n",
       "    </tr>\n",
       "    <tr>\n",
       "      <th rowspan=\"6\" valign=\"top\">vocal, with stranger</th>\n",
       "      <th>adults replaced: pink noise</th>\n",
       "      <td>NaN</td>\n",
       "      <td>NaN</td>\n",
       "    </tr>\n",
       "    <tr>\n",
       "      <th>adults only</th>\n",
       "      <td>NaN</td>\n",
       "      <td>NaN</td>\n",
       "    </tr>\n",
       "    <tr>\n",
       "      <th>adults replaced: clone</th>\n",
       "      <td>NaN</td>\n",
       "      <td>NaN</td>\n",
       "    </tr>\n",
       "    <tr>\n",
       "      <th>adults removed</th>\n",
       "      <td>NaN</td>\n",
       "      <td>NaN</td>\n",
       "    </tr>\n",
       "    <tr>\n",
       "      <th>adults timeshifted</th>\n",
       "      <td>NaN</td>\n",
       "      <td>NaN</td>\n",
       "    </tr>\n",
       "    <tr>\n",
       "      <th>original</th>\n",
       "      <td>NaN</td>\n",
       "      <td>NaN</td>\n",
       "    </tr>\n",
       "  </tbody>\n",
       "</table>\n",
       "</div>"
      ],
      "text/plain": [
       "                                                    ComParE_2016  emobase\n",
       "experimental condition noise replacement                                 \n",
       "vocal, no stranger     adults replaced: pink noise           NaN      NaN\n",
       "                       adults only                           NaN      NaN\n",
       "                       adults replaced: clone                NaN      NaN\n",
       "                       adults removed                        NaN      NaN\n",
       "                       adults timeshifted                    NaN      NaN\n",
       "                       original                              NaN      NaN\n",
       "button, no stranger    adults replaced: pink noise           NaN      NaN\n",
       "                       adults only                           NaN      NaN\n",
       "                       adults replaced: clone                NaN      NaN\n",
       "                       adults removed                        NaN      NaN\n",
       "                       adults timeshifted                    NaN      NaN\n",
       "                       original                              NaN      NaN\n",
       "button, with stranger  adults replaced: pink noise           NaN      NaN\n",
       "                       adults only                           NaN      NaN\n",
       "                       adults replaced: clone                NaN      NaN\n",
       "                       adults removed                        NaN      NaN\n",
       "                       adults timeshifted                    NaN      NaN\n",
       "                       original                              NaN      NaN\n",
       "vocal, with stranger   adults replaced: pink noise           NaN      NaN\n",
       "                       adults only                           NaN      NaN\n",
       "                       adults replaced: clone                NaN      NaN\n",
       "                       adults removed                        NaN      NaN\n",
       "                       adults timeshifted                    NaN      NaN\n",
       "                       original                              NaN      NaN\n",
       "vocal, no stranger     adults replaced: pink noise           NaN      NaN\n",
       "                       adults only                           NaN      NaN\n",
       "                       adults replaced: clone                NaN      NaN\n",
       "                       adults removed                        NaN      NaN\n",
       "                       adults timeshifted                    NaN      NaN\n",
       "                       original                              NaN      NaN\n",
       "button, no stranger    adults replaced: pink noise           NaN      NaN\n",
       "                       adults only                           NaN      NaN\n",
       "                       adults replaced: clone                NaN      NaN\n",
       "                       adults removed                        NaN      NaN\n",
       "                       adults timeshifted                    NaN      NaN\n",
       "                       original                              NaN      NaN\n",
       "button, with stranger  adults replaced: pink noise           NaN      NaN\n",
       "                       adults only                           NaN      NaN\n",
       "                       adults replaced: clone                NaN      NaN\n",
       "                       adults removed                        NaN      NaN\n",
       "                       adults timeshifted                    NaN      NaN\n",
       "                       original                              NaN      NaN\n",
       "vocal, with stranger   adults replaced: pink noise           NaN      NaN\n",
       "                       adults only                           NaN      NaN\n",
       "                       adults replaced: clone                NaN      NaN\n",
       "                       adults removed                        NaN      NaN\n",
       "                       adults timeshifted                    NaN      NaN\n",
       "                       original                              NaN      NaN"
      ]
     },
     "execution_count": 35,
     "metadata": {},
     "output_type": "execute_result"
    }
   ],
   "source": [
    "c = {}\n",
    "for cen in config_exp_nr:\n",
    "    c[cen[0]] = {} if cen[0] not in c else c[cen[0]]\n",
    "    c[cen[0]][cen[1]] = {} if cen[1] not in c[cen[0]] else c[cen[0]][cen[1]]\n",
    "    c[cen[0]][cen[1]][cen[2]] = 0\n",
    "pd.DataFrame(\n",
    "    c,\n",
    "    index=pd.MultiIndex.from_tuples(\n",
    "        [(c[1], c[2]) for c in config_exp_nr],\n",
    "        names=[\n",
    "            \"experimental condition\",\n",
    "            \"noise replacement\"\n",
    "        ]\n",
    "    )\n",
    ")"
   ]
  },
  {
   "cell_type": "code",
   "execution_count": 34,
   "metadata": {},
   "outputs": [
    {
     "data": {
      "text/plain": [
       "[('vocal, no stranger', 'adults replaced: pink noise'),\n",
       " ('vocal, no stranger', 'adults only'),\n",
       " ('vocal, no stranger', 'adults replaced: clone'),\n",
       " ('vocal, no stranger', 'adults removed'),\n",
       " ('vocal, no stranger', 'adults timeshifted'),\n",
       " ('vocal, no stranger', 'original'),\n",
       " ('button, no stranger', 'adults replaced: pink noise'),\n",
       " ('button, no stranger', 'adults only'),\n",
       " ('button, no stranger', 'adults replaced: clone'),\n",
       " ('button, no stranger', 'adults removed'),\n",
       " ('button, no stranger', 'adults timeshifted'),\n",
       " ('button, no stranger', 'original'),\n",
       " ('button, with stranger', 'adults replaced: pink noise'),\n",
       " ('button, with stranger', 'adults only'),\n",
       " ('button, with stranger', 'adults replaced: clone'),\n",
       " ('button, with stranger', 'adults removed'),\n",
       " ('button, with stranger', 'adults timeshifted'),\n",
       " ('button, with stranger', 'original'),\n",
       " ('vocal, with stranger', 'adults replaced: pink noise'),\n",
       " ('vocal, with stranger', 'adults only'),\n",
       " ('vocal, with stranger', 'adults replaced: clone'),\n",
       " ('vocal, with stranger', 'adults removed'),\n",
       " ('vocal, with stranger', 'adults timeshifted'),\n",
       " ('vocal, with stranger', 'original'),\n",
       " ('vocal, no stranger', 'adults replaced: pink noise'),\n",
       " ('vocal, no stranger', 'adults only'),\n",
       " ('vocal, no stranger', 'adults replaced: clone'),\n",
       " ('vocal, no stranger', 'adults removed'),\n",
       " ('vocal, no stranger', 'adults timeshifted'),\n",
       " ('vocal, no stranger', 'original'),\n",
       " ('button, no stranger', 'adults replaced: pink noise'),\n",
       " ('button, no stranger', 'adults only'),\n",
       " ('button, no stranger', 'adults replaced: clone'),\n",
       " ('button, no stranger', 'adults removed'),\n",
       " ('button, no stranger', 'adults timeshifted'),\n",
       " ('button, no stranger', 'original'),\n",
       " ('button, with stranger', 'adults replaced: pink noise'),\n",
       " ('button, with stranger', 'adults only'),\n",
       " ('button, with stranger', 'adults replaced: clone'),\n",
       " ('button, with stranger', 'adults removed'),\n",
       " ('button, with stranger', 'adults timeshifted'),\n",
       " ('button, with stranger', 'original'),\n",
       " ('vocal, with stranger', 'adults replaced: pink noise'),\n",
       " ('vocal, with stranger', 'adults only'),\n",
       " ('vocal, with stranger', 'adults replaced: clone'),\n",
       " ('vocal, with stranger', 'adults removed'),\n",
       " ('vocal, with stranger', 'adults timeshifted'),\n",
       " ('vocal, with stranger', 'original')]"
      ]
     },
     "execution_count": 34,
     "metadata": {},
     "output_type": "execute_result"
    }
   ],
   "source": []
  },
  {
   "cell_type": "code",
   "execution_count": null,
   "metadata": {
    "collapsed": true
   },
   "outputs": [],
   "source": []
  }
 ],
 "metadata": {
  "kernelspec": {
   "display_name": "Python 3",
   "language": "python",
   "name": "python3"
  },
  "language_info": {
   "codemirror_mode": {
    "name": "ipython",
    "version": 3
   },
   "file_extension": ".py",
   "mimetype": "text/x-python",
   "name": "python",
   "nbconvert_exporter": "python",
   "pygments_lexer": "ipython3",
   "version": "3.6.3"
  }
 },
 "nbformat": 4,
 "nbformat_minor": 2
}
