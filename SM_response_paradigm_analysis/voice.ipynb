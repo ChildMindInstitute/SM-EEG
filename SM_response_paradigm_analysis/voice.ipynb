{
 "cells": [
  {
   "cell_type": "markdown",
   "metadata": {},
   "source": [
    "# Selective Mutism response paradigm analysis: voice\n",
    "\n",
    "Authors:\n",
    "    - Jon Clucas, 2017  <jon.clucas@childmind.org>\n",
    "Copyright ©2017, Apache v2.0 License"
   ]
  },
  {
   "cell_type": "code",
   "execution_count": null,
   "metadata": {},
   "outputs": [],
   "source": [
    "import json\n",
    "import os\n",
    "import pandas as pd\n",
    "import sys\n",
    "sm_eeg = os.path.abspath(os.path.join(os.getcwd(), os.pardir))\n",
    "if sm_eeg not in sys.path:\n",
    "    sys.path.append(sm_eeg)\n",
    "from utilities import fetch_data\n",
    "with open(os.path.join('../config/config.json')) as cfgf:\n",
    "    osf = json.load(cfgf)['OSF_urls']\n",
    "    \n",
    "    \n",
    "def combine_data(openSMILE, SM, conditions, dx):\n",
    "    \"\"\"\n",
    "    Function to combine imported dataframes.\n",
    "    \n",
    "    Parameters\n",
    "    ----------\n",
    "    openSMILE: pandas dataframe\n",
    "        features from openSMILE\n",
    "    \n",
    "    SM: pandas dataframe\n",
    "        SM diagnotic measures\n",
    "    \n",
    "    conditions: pandas dataframe\n",
    "        notes about each recording\n",
    "        \n",
    "    dx: pandas dataframe\n",
    "        diagnostic information\n",
    "        \n",
    "    Returns\n",
    "    -------\n",
    "    d2: pandas dataframe\n",
    "        merged dataframe\n",
    "    \"\"\"\n",
    "    openSMILE['stranger'] = openSMILE['stranger'] == 'w'\n",
    "    d0 = pd.merge(SM, dx, on='URSI', how='left')\n",
    "    d = pd.merge(d0, openSMILE, on='URSI', how='right')\n",
    "    d2 = pd.merge(d, conditions, on=['URSI', 'stranger'], how='left')\n",
    "    return(d2)"
   ]
  },
  {
   "cell_type": "code",
   "execution_count": null,
   "metadata": {
    "collapsed": true
   },
   "outputs": [],
   "source": [
    "SMQ = pd.read_csv(osf['SMQ'])\n",
    "conditions = pd.read_csv(osf['conditions'])\n",
    "dx = pd.read_csv(osf['dx'])"
   ]
  },
  {
   "cell_type": "code",
   "execution_count": null,
   "metadata": {},
   "outputs": [],
   "source": [
    "emobase = pd.read_csv(osf['emobase'])\n",
    "emobase = combine_data(emobase, SMQ, conditions, dx)"
   ]
  },
  {
   "cell_type": "code",
   "execution_count": null,
   "metadata": {},
   "outputs": [],
   "source": [
    "ComParE_2016 = pd.read_csv(osf['ComParE_2016'])\n",
    "ComParE_2016 = combine_data(ComParE_2016, SMQ, conditions, dx)"
   ]
  },
  {
   "cell_type": "markdown",
   "metadata": {},
   "source": [
    "## Random Forests"
   ]
  },
  {
   "cell_type": "code",
   "execution_count": null,
   "metadata": {
    "collapsed": true
   },
   "outputs": [],
   "source": [
    "from sklearn.ensemble import RandomForestClassifier\n"
   ]
  }
 ],
 "metadata": {
  "kernelspec": {
   "display_name": "Python [conda root]",
   "language": "python",
   "name": "conda-root-py"
  },
  "language_info": {
   "codemirror_mode": {
    "name": "ipython",
    "version": 3
   },
   "file_extension": ".py",
   "mimetype": "text/x-python",
   "name": "python",
   "nbconvert_exporter": "python",
   "pygments_lexer": "ipython3",
   "version": "3.5.2"
  }
 },
 "nbformat": 4,
 "nbformat_minor": 2
}
