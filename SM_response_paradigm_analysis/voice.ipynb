{
 "cells": [
  {
   "cell_type": "markdown",
   "metadata": {},
   "source": [
    "# Selective Mutism response paradigm analysis: voice\n",
    "\n",
    "Authors:\n",
    "    - Jon Clucas, 2017  <jon.clucas@childmind.org>\n",
    "Copyright ©2017‒2018, Apache v2.0 License"
   ]
  },
  {
   "cell_type": "code",
   "execution_count": 9,
   "metadata": {
    "collapsed": true
   },
   "outputs": [],
   "source": [
    "%load_ext autoreload\n",
    "%autoreload 2\n",
    "%matplotlib inline"
   ]
  },
  {
   "cell_type": "markdown",
   "metadata": {},
   "source": [
    "Imports & function definitions:"
   ]
  },
  {
   "cell_type": "code",
   "execution_count": 141,
   "metadata": {},
   "outputs": [],
   "source": [
    "import json\n",
    "from sklearn.preprocessing import LabelEncoder\n",
    "import numpy as np\n",
    "import os\n",
    "import pandas as pd\n",
    "import sys\n",
    "import urllib\n",
    "sm_rpa_v = os.path.abspath(os.path.join(os.getcwd(), os.pardir))\n",
    "if sm_rpa_v not in sys.path: \n",
    "    sys.path.append(sm_rpa_v)\n",
    "from utilities import fetch_data\n",
    "from voice_functions import *\n",
    "with open(os.path.join('../config/config.json')) as cfgf:\n",
    "    osf = json.load(cfgf)['OSF_urls']"
   ]
  },
  {
   "cell_type": "markdown",
   "metadata": {
    "collapsed": true
   },
   "source": [
    "---\n",
    "Collect all combinations of config files, experimental conditions, and noise replacement methods into a (48-item) list of 3-tuples:"
   ]
  },
  {
   "cell_type": "code",
   "execution_count": 142,
   "metadata": {},
   "outputs": [],
   "source": [
    "experimental_conditions = {\n",
    "    k for k in osf[\n",
    "        'emobase'\n",
    "    ] if k != \"features\"\n",
    "}\n",
    "config_exp_nr = [\n",
    "    (\n",
    "        cf,\n",
    "        exp,\n",
    "        nr\n",
    "    ) for cf in [\n",
    "        \"emobase\",\n",
    "        \"ComParE_2016\"\n",
    "    ] for exp in experimental_conditions for nr in {\n",
    "        k for k in osf[\n",
    "            'emobase'\n",
    "        ][\n",
    "            list(\n",
    "                experimental_conditions\n",
    "            )[0]\n",
    "        ]\n",
    "    }\n",
    "]"
   ]
  },
  {
   "cell_type": "code",
   "execution_count": null,
   "metadata": {},
   "outputs": [
    {
     "name": "stdout",
     "output_type": "stream",
     "text": [
      "/home/jclucas/selective-mutism-eeg/SM_response_paradigm_analysis/emobase/emobase_features.csv\n",
      "/home/jclucas/selective-mutism-eeg/SM_response_paradigm_analysis/emobase/emobase_features.csv\n",
      "/home/jclucas/selective-mutism-eeg/SM_response_paradigm_analysis/emobase/emobase_features.csv\n",
      "/home/jclucas/selective-mutism-eeg/SM_response_paradigm_analysis/emobase/emobase_features.csv\n",
      "/home/jclucas/selective-mutism-eeg/SM_response_paradigm_analysis/emobase/emobase_features.csv\n",
      "/home/jclucas/selective-mutism-eeg/SM_response_paradigm_analysis/emobase/emobase_features.csv\n",
      "/home/jclucas/selective-mutism-eeg/SM_response_paradigm_analysis/emobase/emobase_features.csv\n",
      "/home/jclucas/selective-mutism-eeg/SM_response_paradigm_analysis/emobase/emobase_features.csv\n",
      "/home/jclucas/selective-mutism-eeg/SM_response_paradigm_analysis/emobase/emobase_features.csv\n",
      "/home/jclucas/selective-mutism-eeg/SM_response_paradigm_analysis/emobase/emobase_features.csv\n",
      "/home/jclucas/selective-mutism-eeg/SM_response_paradigm_analysis/emobase/emobase_features.csv\n",
      "/home/jclucas/selective-mutism-eeg/SM_response_paradigm_analysis/emobase/emobase_features.csv\n",
      "/home/jclucas/selective-mutism-eeg/SM_response_paradigm_analysis/emobase/emobase_features.csv\n",
      "/home/jclucas/selective-mutism-eeg/SM_response_paradigm_analysis/emobase/emobase_features.csv\n",
      "/home/jclucas/selective-mutism-eeg/SM_response_paradigm_analysis/emobase/emobase_features.csv\n",
      "/home/jclucas/selective-mutism-eeg/SM_response_paradigm_analysis/emobase/emobase_features.csv\n",
      "/home/jclucas/selective-mutism-eeg/SM_response_paradigm_analysis/emobase/emobase_features.csv\n",
      "/home/jclucas/selective-mutism-eeg/SM_response_paradigm_analysis/emobase/emobase_features.csv\n",
      "/home/jclucas/selective-mutism-eeg/SM_response_paradigm_analysis/emobase/emobase_features.csv\n",
      "/home/jclucas/selective-mutism-eeg/SM_response_paradigm_analysis/emobase/emobase_features.csv\n",
      "/home/jclucas/selective-mutism-eeg/SM_response_paradigm_analysis/emobase/emobase_features.csv\n",
      "/home/jclucas/selective-mutism-eeg/SM_response_paradigm_analysis/emobase/emobase_features.csv\n",
      "/home/jclucas/selective-mutism-eeg/SM_response_paradigm_analysis/emobase/emobase_features.csv\n",
      "/home/jclucas/selective-mutism-eeg/SM_response_paradigm_analysis/emobase/emobase_features.csv\n",
      "/home/jclucas/selective-mutism-eeg/SM_response_paradigm_analysis/ComParE_2016/ComParE_2016_features.csv\n",
      "/home/jclucas/selective-mutism-eeg/SM_response_paradigm_analysis/ComParE_2016/ComParE_2016_features.csv\n",
      "/home/jclucas/selective-mutism-eeg/SM_response_paradigm_analysis/ComParE_2016/ComParE_2016_features.csv\n",
      "/home/jclucas/selective-mutism-eeg/SM_response_paradigm_analysis/ComParE_2016/ComParE_2016_features.csv\n",
      "/home/jclucas/selective-mutism-eeg/SM_response_paradigm_analysis/ComParE_2016/ComParE_2016_features.csv\n",
      "/home/jclucas/selective-mutism-eeg/SM_response_paradigm_analysis/ComParE_2016/ComParE_2016_features.csv\n",
      "/home/jclucas/selective-mutism-eeg/SM_response_paradigm_analysis/ComParE_2016/ComParE_2016_features.csv\n",
      "/home/jclucas/selective-mutism-eeg/SM_response_paradigm_analysis/ComParE_2016/ComParE_2016_features.csv\n",
      "/home/jclucas/selective-mutism-eeg/SM_response_paradigm_analysis/ComParE_2016/ComParE_2016_features.csv\n",
      "/home/jclucas/selective-mutism-eeg/SM_response_paradigm_analysis/ComParE_2016/ComParE_2016_features.csv\n",
      "/home/jclucas/selective-mutism-eeg/SM_response_paradigm_analysis/ComParE_2016/ComParE_2016_features.csv\n",
      "/home/jclucas/selective-mutism-eeg/SM_response_paradigm_analysis/ComParE_2016/ComParE_2016_features.csv\n",
      "/home/jclucas/selective-mutism-eeg/SM_response_paradigm_analysis/ComParE_2016/ComParE_2016_features.csv\n",
      "/home/jclucas/selective-mutism-eeg/SM_response_paradigm_analysis/ComParE_2016/ComParE_2016_features.csv\n",
      "/home/jclucas/selective-mutism-eeg/SM_response_paradigm_analysis/ComParE_2016/ComParE_2016_features.csv\n",
      "/home/jclucas/selective-mutism-eeg/SM_response_paradigm_analysis/ComParE_2016/ComParE_2016_features.csv\n",
      "/home/jclucas/selective-mutism-eeg/SM_response_paradigm_analysis/ComParE_2016/ComParE_2016_features.csv\n",
      "/home/jclucas/selective-mutism-eeg/SM_response_paradigm_analysis/ComParE_2016/ComParE_2016_features.csv\n",
      "/home/jclucas/selective-mutism-eeg/SM_response_paradigm_analysis/ComParE_2016/ComParE_2016_features.csv\n",
      "/home/jclucas/selective-mutism-eeg/SM_response_paradigm_analysis/ComParE_2016/ComParE_2016_features.csv\n",
      "/home/jclucas/selective-mutism-eeg/SM_response_paradigm_analysis/ComParE_2016/ComParE_2016_features.csv\n",
      "/home/jclucas/selective-mutism-eeg/SM_response_paradigm_analysis/ComParE_2016/ComParE_2016_features.csv\n",
      "/home/jclucas/selective-mutism-eeg/SM_response_paradigm_analysis/ComParE_2016/ComParE_2016_features.csv\n"
     ]
    }
   ],
   "source": [
    "c = {}\n",
    "cdf = pd.DataFrame(\n",
    "    np.nan,\n",
    "    index=pd.MultiIndex.from_tuples(\n",
    "        {(con[1], con[2]) for con in config_exp_nr},\n",
    "        names=[\n",
    "            \"experimental condition\",\n",
    "            \"noise replacement\"\n",
    "        ]\n",
    "    ),\n",
    "    columns={con[0] for con in config_exp_nr}\n",
    ").sort_index()\n",
    "for cen in config_exp_nr:\n",
    "    c[cen[0]] = {} if cen[0] not in c else c[cen[0]]\n",
    "    c[cen[0]][cen[1]] = {} if cen[1] not in c[cen[0]] else c[cen[0]][cen[1]]\n",
    "    c[cen[0]][cen[1]][cen[2]] = load_from_osf(*cen)\n",
    "    cdf.loc[\n",
    "        (\n",
    "            cen[1],\n",
    "            cen[2]\n",
    "        ),\n",
    "        cen[0]\n",
    "    ] = 1"
   ]
  },
  {
   "cell_type": "code",
   "execution_count": null,
   "metadata": {},
   "outputs": [],
   "source": [
    "c"
   ]
  },
  {
   "cell_type": "code",
   "execution_count": null,
   "metadata": {},
   "outputs": [],
   "source": [
    "cdf"
   ]
  },
  {
   "cell_type": "markdown",
   "metadata": {},
   "source": [
    "---\n",
    "Load data from OSF:"
   ]
  },
  {
   "cell_type": "code",
   "execution_count": null,
   "metadata": {
    "collapsed": true
   },
   "outputs": [],
   "source": [
    "emobase = pd.read_csv(osf['emobase']['features'])\n",
    "ComParE_2016 = pd.read_csv(osf['ComParE_2016']['features'])\n",
    "conditions = pd.read_csv(osf['conditions'])\n",
    "dx = pd.read_csv(osf['dx'])"
   ]
  },
  {
   "cell_type": "markdown",
   "metadata": {},
   "source": [
    "Harmonize data formats:"
   ]
  },
  {
   "cell_type": "code",
   "execution_count": null,
   "metadata": {
    "collapsed": true
   },
   "outputs": [],
   "source": [
    "emobase, ComParE_2016, conditions, dx = update_encoding(\n",
    "                                             [emobase, ComParE_2016, conditions, dx],\n",
    "                                             [{\"M00494594\":\"M00494954\"},\n",
    "                                              {\"_\":False, np.nan:False, \"SM\":True}\n",
    "                                             ],\n",
    "                                             [\"URSI\", \"Dx?\"],\n",
    "                                             [None, bool]\n",
    "                                         )"
   ]
  },
  {
   "cell_type": "code",
   "execution_count": null,
   "metadata": {
    "collapsed": true
   },
   "outputs": [],
   "source": [
    "emobase.drop(\"Unnamed: 0\", axis=1)"
   ]
  },
  {
   "cell_type": "markdown",
   "metadata": {},
   "source": [
    "Merge datatables as necessary and integerize categorical data:"
   ]
  },
  {
   "cell_type": "code",
   "execution_count": null,
   "metadata": {
    "collapsed": true
   },
   "outputs": [],
   "source": [
    "emobase = int_categorize(combine_data(emobase, conditions, dx))\n",
    "ComParE_2016 = int_categorize(combine_data(ComParE_2016, conditions, dx))"
   ]
  },
  {
   "cell_type": "markdown",
   "metadata": {},
   "source": [
    "## Random Forests"
   ]
  },
  {
   "cell_type": "markdown",
   "metadata": {},
   "source": [
    "Import and initialize:"
   ]
  },
  {
   "cell_type": "code",
   "execution_count": null,
   "metadata": {
    "collapsed": true
   },
   "outputs": [],
   "source": [
    "from sklearn.ensemble import RandomForestClassifier\n",
    "RandomForestClassifier()"
   ]
  },
  {
   "cell_type": "markdown",
   "metadata": {},
   "source": [
    "We can only have 1-D Y:"
   ]
  },
  {
   "cell_type": "code",
   "execution_count": null,
   "metadata": {
    "collapsed": true
   },
   "outputs": [],
   "source": [
    "eX, eY = make_forest(emobase)"
   ]
  },
  {
   "cell_type": "markdown",
   "metadata": {},
   "source": [
    "Try with 100 estimators:"
   ]
  },
  {
   "cell_type": "code",
   "execution_count": null,
   "metadata": {
    "collapsed": true
   },
   "outputs": [],
   "source": [
    "clf = RandomForestClassifier(n_estimators=10)\n",
    "clf = clf.fit(eX, eY)"
   ]
  },
  {
   "cell_type": "code",
   "execution_count": null,
   "metadata": {
    "collapsed": true
   },
   "outputs": [],
   "source": [
    "clf.feature_importances_"
   ]
  },
  {
   "cell_type": "code",
   "execution_count": null,
   "metadata": {
    "collapsed": true
   },
   "outputs": [],
   "source": [
    "features = pd.DataFrame.from_dict(dict(zip(\n",
    "               emobase.columns.difference([\"Dx?\"]), clf.feature_importances_\n",
    "               )), orient='index'\n",
    "           ).rename(columns={0:\"importance\"}\n",
    "           ).sort_values(\"importance\", ascending=False)\n",
    "print(features)"
   ]
  },
  {
   "cell_type": "code",
   "execution_count": null,
   "metadata": {
    "collapsed": true
   },
   "outputs": [],
   "source": []
  }
 ],
 "metadata": {
  "kernelspec": {
   "display_name": "Python 3",
   "language": "python",
   "name": "python3"
  },
  "language_info": {
   "codemirror_mode": {
    "name": "ipython",
    "version": 3
   },
   "file_extension": ".py",
   "mimetype": "text/x-python",
   "name": "python",
   "nbconvert_exporter": "python",
   "pygments_lexer": "ipython3",
   "version": "3.6.3"
  }
 },
 "nbformat": 4,
 "nbformat_minor": 2
}
