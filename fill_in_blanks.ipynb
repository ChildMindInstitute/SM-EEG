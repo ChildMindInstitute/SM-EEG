{
 "cells": [
  {
   "cell_type": "code",
   "execution_count": 1,
   "metadata": {
    "collapsed": true
   },
   "outputs": [],
   "source": [
    "%load_ext autoreload\n",
    "%autoreload 2\n",
    "%matplotlib inline"
   ]
  },
  {
   "cell_type": "code",
   "execution_count": 2,
   "metadata": {
    "collapsed": true
   },
   "outputs": [],
   "source": [
    "import json\n",
    "from sklearn.preprocessing import LabelEncoder\n",
    "import numpy as np\n",
    "import os\n",
    "import pandas as pd\n",
    "import sys\n",
    "import urllib\n",
    "sm_rpa_v = os.path.abspath(os.getcwd())\n",
    "if sm_rpa_v not in sys.path: \n",
    "    sys.path.append(sm_rpa_v)\n",
    "from utilities import fetch_data\n",
    "from SM_response_paradigm_analysis.voice_functions import *\n",
    "with open(os.path.join('config/config.json')) as cfgf:\n",
    "    osf = json.load(cfgf)['OSF_urls']\n",
    "from SM_openSMILE.openSMILE_preprocessing.arff_csv_to_pandas import get_oS_data"
   ]
  },
  {
   "cell_type": "code",
   "execution_count": 3,
   "metadata": {
    "collapsed": true
   },
   "outputs": [],
   "source": [
    "formalized = {\n",
    "    \"experimental condition\": {\n",
    "        \"_button_no_\": \"button, no stranger\",\n",
    "        \"_button_w_\": \"button, with stranger\",\n",
    "        \"_vocal_no_\": \"vocal, no stranger\",\n",
    "        \"_vocal_w_\": \"vocal, with stranger\"\n",
    "    },\n",
    "    \"noise replacement\": {\n",
    "        \"adults_replaced_clone\": \"adults replaced: clone\",\n",
    "        \"adults_removed\": \"adults removed\",\n",
    "        \"adults_replaced_pink\": \"adults replaced: pink noise\",\n",
    "        \"adults\": \"adults only\",\n",
    "        \"adults_timeshifted\": \"adults timeshifted\"\n",
    "    }\n",
    "}"
   ]
  },
  {
   "cell_type": "code",
   "execution_count": 4,
   "metadata": {
    "collapsed": true
   },
   "outputs": [],
   "source": [
    "d = {\n",
    "    formalized[\"noise replacement\"][fp]: list({\n",
    "        (\n",
    "            fp2[:9],\n",
    "            [\n",
    "                formalized[\n",
    "                    \"experimental condition\"\n",
    "                ][\n",
    "                    ex\n",
    "                ] for ex in formalized[\n",
    "                    \"experimental condition\"\n",
    "                ] if ex in fp2\n",
    "            ][0],\n",
    "            os.path.abspath(\n",
    "                os.path.join(\n",
    "                    sm_rpa_v,\n",
    "                    \"all participants\",\n",
    "                    fp,\n",
    "                    fp2\n",
    "                )\n",
    "            )\n",
    "        ) for fp2 in os.listdir(\n",
    "            os.path.join(\n",
    "                sm_rpa_v,\n",
    "                \"all participants\",\n",
    "                fp\n",
    "            )\n",
    "        ) if fp2.endswith(\n",
    "            \".csv\"\n",
    "        )\n",
    "    }) for fp in os.listdir(\n",
    "        os.path.join(\n",
    "            sm_rpa_v,\n",
    "            \"all participants\"\n",
    "        )\n",
    "    ) if fp in formalized[\n",
    "        \"noise replacement\"\n",
    "    ]\n",
    "}\n",
    "for i in d:\n",
    "    d[i].sort()"
   ]
  },
  {
   "cell_type": "code",
   "execution_count": 5,
   "metadata": {
    "collapsed": true
   },
   "outputs": [],
   "source": [
    "vocal_with_adults = list({\n",
    "    d[\"adults only\"][i][0] for i in range(\n",
    "        len(d[\"adults only\"])\n",
    "    ) if d[\"adults only\"][i][1] == \"vocal, with stranger\"\n",
    "})\n",
    "vocal_no_adults = list({\n",
    "    d[\"adults only\"][i][0] for i in range(\n",
    "        len(d[\"adults only\"])\n",
    "    ) if d[\"adults only\"][i][1] == \"vocal, no stranger\"\n",
    "})\n",
    "button_with_adults = list({\n",
    "    d[\"adults only\"][i][0] for i in range(\n",
    "        len(d[\"adults only\"])\n",
    "    ) if d[\"adults only\"][i][1] == \"button, with stranger\"\n",
    "})\n",
    "button_no_adults = list({\n",
    "    d[\"adults only\"][i][0] for i in range(\n",
    "        len(d[\"adults only\"])\n",
    "    ) if d[\"adults only\"][i][1] == \"button, no stranger\"\n",
    "})"
   ]
  },
  {
   "cell_type": "code",
   "execution_count": 6,
   "metadata": {
    "collapsed": true
   },
   "outputs": [],
   "source": [
    "pc = pd.read_csv(\n",
    "    urllib.request.urlopen(\n",
    "        osf[\"conditions\"]\n",
    "    )\n",
    ")\n",
    "pc_stranger = pc.loc[pc['stranger']]\n",
    "pc_stranger.reset_index(inplace=True, drop=True)\n",
    "pc_no_stranger = pc.loc[pc['stranger']==False]\n",
    "pc_no_stranger.reset_index(inplace=True, drop=True)\n",
    "pcb = pd.read_csv(\n",
    "    \"adults_speak.csv\"\n",
    ")\n",
    "pcb = pcb.sort_values(\"Unnamed: 0\")\n",
    "pcb.reset_index(inplace=True,drop=True)\n",
    "pcb_stranger = pcb.loc[pcb['button w']==False]\n",
    "pcb_no_stranger = pcb.loc[pcb['button no']==False]"
   ]
  },
  {
   "cell_type": "code",
   "execution_count": 7,
   "metadata": {
    "collapsed": true
   },
   "outputs": [],
   "source": [
    "use_original = {\n",
    "    \"button\": {},\n",
    "    \"vocal\": {}\n",
    "}\n",
    "use_original[\"vocal\"][\"with\"] = list(\n",
    "    pc_stranger.loc[\n",
    "        ~pc_stranger[\n",
    "            'URSI'\n",
    "        ].isin(\n",
    "            vocal_with_adults\n",
    "        )\n",
    "    ].index\n",
    ")\n",
    "use_original[\"vocal\"][\"no\"] = list(\n",
    "    pc_no_stranger.loc[\n",
    "        ~pc_no_stranger[\n",
    "            'URSI'\n",
    "        ].isin(\n",
    "            vocal_no_adults\n",
    "        )\n",
    "    ].index\n",
    ")\n",
    "use_original[\"button\"][\"with\"] = list(\n",
    "    pcb_stranger.loc[\n",
    "        ~pcb_stranger[\n",
    "            'Unnamed: 0'\n",
    "        ].isin(\n",
    "            button_with_adults\n",
    "        )\n",
    "    ].index\n",
    ")\n",
    "use_original[\"button\"][\"no\"] = list(\n",
    "    pcb_no_stranger.loc[\n",
    "        ~pcb_no_stranger[\n",
    "            'Unnamed: 0'\n",
    "        ].isin(\n",
    "            button_no_adults\n",
    "        )\n",
    "    ].index\n",
    ")\n",
    "pd.DataFrame(\n",
    "    use_original\n",
    ").to_csv(\n",
    "    \"use_original.csv\"\n",
    ")"
   ]
  },
  {
   "cell_type": "code",
   "execution_count": null,
   "metadata": {
    "collapsed": true
   },
   "outputs": [],
   "source": []
  }
 ],
 "metadata": {
  "kernelspec": {
   "display_name": "Python 3",
   "language": "python",
   "name": "python3"
  },
  "language_info": {
   "codemirror_mode": {
    "name": "ipython",
    "version": 3
   },
   "file_extension": ".py",
   "mimetype": "text/x-python",
   "name": "python",
   "nbconvert_exporter": "python",
   "pygments_lexer": "ipython3",
   "version": "3.6.3"
  }
 },
 "nbformat": 4,
 "nbformat_minor": 2
}
